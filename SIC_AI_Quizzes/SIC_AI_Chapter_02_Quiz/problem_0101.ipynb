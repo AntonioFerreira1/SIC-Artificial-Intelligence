{
  "cells": [
    {
      "cell_type": "markdown",
      "metadata": {
        "id": "muqaQRb4c02q"
      },
      "source": [
        "## Quiz #0101"
      ]
    },
    {
      "cell_type": "markdown",
      "metadata": {
        "id": "ywkesLh9c02v"
      },
      "source": [
        "#### Provide the answers in Python code:"
      ]
    },
    {
      "cell_type": "markdown",
      "metadata": {
        "id": "gJC66t4-c02w"
      },
      "source": [
        "1).  In the class A, students' heights are:\n",
        "\n",
        "161.5 <br>\n",
        "165.9 <br>\n",
        "168.7 <br>\n",
        "163.1 <br>\n",
        "170.8 <br>\n",
        "167.2 <br>\n",
        "\n",
        "Calculate the mean height by using Python 'list' and 'for' loop:"
      ]
    },
    {
      "cell_type": "code",
      "execution_count": 11,
      "metadata": {
        "id": "_d8if5cyc02x",
        "outputId": "99891c88-0270-4a35-be19-73014effb756",
        "colab": {
          "base_uri": "https://localhost:8080/"
        }
      },
      "outputs": [
        {
          "output_type": "stream",
          "name": "stdout",
          "text": [
            "166.20000000000002\n"
          ]
        }
      ],
      "source": [
        "a = [161.5, 165.9, 168.7, 163.1, 170.8, 167.2]\n",
        "sum = 0\n",
        "for i in a:\n",
        "  sum += i\n",
        "print(sum / len(a))"
      ]
    },
    {
      "cell_type": "markdown",
      "metadata": {
        "id": "lna1Im_Xc02y"
      },
      "source": [
        "2).  In the class B, students' heights are:\n",
        "\n",
        "172.5 <br>\n",
        "162.9 <br>\n",
        "161.7 <br>\n",
        "160.1 <br>\n",
        "161.8 <br>\n",
        "169.2 <br>\n",
        "\n",
        "Calculate the mean height by using Python 'list' and 'for' loop:"
      ]
    },
    {
      "cell_type": "code",
      "execution_count": 10,
      "metadata": {
        "id": "1LMocwh7c02y",
        "outputId": "ea843738-95c2-4422-f153-fe8c4ce8d836",
        "colab": {
          "base_uri": "https://localhost:8080/"
        }
      },
      "outputs": [
        {
          "output_type": "stream",
          "name": "stdout",
          "text": [
            "164.70000000000002\n"
          ]
        }
      ],
      "source": [
        "b = [172.5, 162.9, 161.7, 160.1, 161.8, 169.2]\n",
        "sum = 0\n",
        "for i in b:\n",
        "  sum += i\n",
        "print(sum / len(b))"
      ]
    },
    {
      "cell_type": "markdown",
      "metadata": {
        "id": "aYKoWQOdc02y"
      },
      "source": [
        "3). The class A and the class B are joined together to form the class AB. Calculate the mean height by using Python 'list' and 'for' loop:"
      ]
    },
    {
      "cell_type": "code",
      "execution_count": 12,
      "metadata": {
        "id": "cwMWwK3Bc020",
        "outputId": "198ee22c-86e5-4cf6-e963-9ec76dace5be",
        "colab": {
          "base_uri": "https://localhost:8080/"
        }
      },
      "outputs": [
        {
          "output_type": "stream",
          "name": "stdout",
          "text": [
            "165.45000000000002\n"
          ]
        }
      ],
      "source": [
        "a_b = a + b\n",
        "sum = 0\n",
        "for i in a_b:\n",
        "  sum += i\n",
        "print(sum / len(a_b))"
      ]
    },
    {
      "cell_type": "markdown",
      "metadata": {
        "id": "xHJRe9ncc020"
      },
      "source": [
        "4). Sort the heights of the class AB."
      ]
    },
    {
      "cell_type": "code",
      "execution_count": 24,
      "metadata": {
        "id": "S3X6tLoCc021",
        "outputId": "c3aa1627-49a2-4287-aeb9-63dcf5ac05a6",
        "colab": {
          "base_uri": "https://localhost:8080/"
        }
      },
      "outputs": [
        {
          "output_type": "stream",
          "name": "stdout",
          "text": [
            "[160.1, 161.5, 161.7, 161.8, 162.9, 163.1, 165.9, 167.2, 168.7, 169.2, 170.8, 172.5]\n"
          ]
        }
      ],
      "source": [
        "a_b.sort()\n",
        "\n",
        "print(a_b)"
      ]
    },
    {
      "cell_type": "markdown",
      "metadata": {
        "id": "gOW7O-_Sc022"
      },
      "source": [
        "5). The class C is formed with students with the height less than 165. Make a list 'C' containing the heights of the class C."
      ]
    },
    {
      "cell_type": "code",
      "execution_count": 22,
      "metadata": {
        "id": "3b3aqInyc022",
        "outputId": "7670016a-7df8-44e1-cc0f-bb11afd8b7a3",
        "colab": {
          "base_uri": "https://localhost:8080/"
        }
      },
      "outputs": [
        {
          "output_type": "stream",
          "name": "stdout",
          "text": [
            "[163.1, 162.9, 161.8, 161.7, 161.5, 160.1]\n"
          ]
        }
      ],
      "source": [
        "c = []\n",
        "for i in a_b:\n",
        "  if i < 165:\n",
        "    c.insert(0, i)\n",
        "\n",
        "print(c)\n"
      ]
    },
    {
      "cell_type": "markdown",
      "metadata": {
        "id": "Y0lqcZf3c022"
      },
      "source": [
        "6). The class D is formed with students with the height larger than 160 and less than 170. Make a list containing the heights of the class D."
      ]
    },
    {
      "cell_type": "code",
      "execution_count": 23,
      "metadata": {
        "id": "jmheyHEqc023",
        "outputId": "1bf4332d-e950-41dc-8521-4fb1eeced36b",
        "colab": {
          "base_uri": "https://localhost:8080/"
        }
      },
      "outputs": [
        {
          "output_type": "stream",
          "name": "stdout",
          "text": [
            "[169.2, 168.7, 167.2, 165.9, 163.1, 162.9, 161.8, 161.7, 161.5, 160.1]\n"
          ]
        }
      ],
      "source": [
        "d = []\n",
        "for i in a_b:\n",
        "  if i > 160 and i < 170:\n",
        "    d.insert(0, i)\n",
        "\n",
        "print(d)"
      ]
    }
  ],
  "metadata": {
    "kernelspec": {
      "display_name": "Python 3",
      "language": "python",
      "name": "python3"
    },
    "language_info": {
      "codemirror_mode": {
        "name": "ipython",
        "version": 3
      },
      "file_extension": ".py",
      "mimetype": "text/x-python",
      "name": "python",
      "nbconvert_exporter": "python",
      "pygments_lexer": "ipython3",
      "version": "3.7.3"
    },
    "colab": {
      "name": "problem_0101.ipynb",
      "provenance": []
    }
  },
  "nbformat": 4,
  "nbformat_minor": 0
}